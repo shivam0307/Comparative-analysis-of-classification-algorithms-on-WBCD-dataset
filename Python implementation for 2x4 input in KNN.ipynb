{
 "cells": [
  {
   "cell_type": "code",
   "execution_count": 2,
   "id": "5d558f0b",
   "metadata": {},
   "outputs": [
    {
     "name": "stdout",
     "output_type": "stream",
     "text": [
      "The predicted class of the test point is: 0\n"
     ]
    }
   ],
   "source": [
    "import numpy as np\n",
    "\n",
    "# Define the input points\n",
    "X = np.array([(1,2), (2,3), (3,4), (4,5)])\n",
    "y = np.array([0, 0, 1, 1])\n",
    "\n",
    "# Define the test point and the value of k\n",
    "test_point = np.array([2.5, 3.5])\n",
    "k = 3\n",
    "\n",
    "# Define the function to calculate the Euclidean distance between two points\n",
    "def euclidean_distance(x1, x2):\n",
    "    return np.sqrt(np.sum((x1 - x2)**2))\n",
    "\n",
    "# Define the function to get the k nearest neighbors of the test point\n",
    "def get_neighbors(X, y, test_point, k):\n",
    "    distances = [euclidean_distance(test_point, X[i]) for i in range(len(y))]\n",
    "    distances_with_indices = list(enumerate(distances))\n",
    "    distances_with_indices.sort(key=lambda x: x[1])\n",
    "    nearest_indices = [d[0] for d in distances_with_indices[:k]]\n",
    "    return [y[i] for i in nearest_indices]\n",
    "\n",
    "# Define the function to predict the class of the test point\n",
    "def knn(X, y, test_point, k):\n",
    "    neighbors = get_neighbors(X, y, test_point, k)\n",
    "    unique, counts = np.unique(neighbors, return_counts=True)\n",
    "    return unique[np.argmax(counts)]\n",
    "\n",
    "# Predict the class of the test point based on the k nearest neighbors\n",
    "predicted_class = knn(X, y, test_point, k)\n",
    "\n",
    "# Print the predicted class of the test point\n",
    "print(\"The predicted class of the test point is:\", predicted_class)\n"
   ]
  },
  {
   "cell_type": "code",
   "execution_count": null,
   "id": "0409b17e",
   "metadata": {},
   "outputs": [],
   "source": []
  },
  {
   "cell_type": "code",
   "execution_count": null,
   "id": "37df0bdd",
   "metadata": {},
   "outputs": [],
   "source": []
  }
 ],
 "metadata": {
  "kernelspec": {
   "display_name": "Python 3 (ipykernel)",
   "language": "python",
   "name": "python3"
  },
  "language_info": {
   "codemirror_mode": {
    "name": "ipython",
    "version": 3
   },
   "file_extension": ".py",
   "mimetype": "text/x-python",
   "name": "python",
   "nbconvert_exporter": "python",
   "pygments_lexer": "ipython3",
   "version": "3.10.4"
  }
 },
 "nbformat": 4,
 "nbformat_minor": 5
}
