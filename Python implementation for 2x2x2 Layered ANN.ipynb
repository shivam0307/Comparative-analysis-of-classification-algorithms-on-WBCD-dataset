{
 "cells": [
  {
   "cell_type": "raw",
   "id": "73b32300",
   "metadata": {},
   "source": [
    "# Forward and Backward Propagation\n",
    "\n",
    "# Forward Propagation is predicting the values (y_i)\n",
    "# Backward Propagation is updating the weights (w_i)"
   ]
  },
  {
   "cell_type": "code",
   "execution_count": 1,
   "id": "07e0e873",
   "metadata": {},
   "outputs": [
    {
     "name": "stdout",
     "output_type": "stream",
     "text": [
      "Initial hidden weights: [0.30261139 0.56827607] [0.75722713 0.74259804]\n",
      "Initial hidden biases: [0.25584707 0.18946452]\n",
      "Initial output weights: [0.9029912  0.39811889] [0.52469796 0.75445268]\n",
      "Initial output biases: [0.47620979 0.75039657]\n"
     ]
    }
   ],
   "source": [
    "import numpy as np\n",
    "\n",
    "def sigmoid(x):\n",
    "    return 1/(1+np.exp(-x))\n",
    "\n",
    "def sigmoid_derivative(x):\n",
    "    return x*(1-x)\n",
    "\n",
    "# Input datasets\n",
    "inputs = np.array([[0.05,0.01]])\n",
    "expected_output = np.array([[0.01,0.99]])\n",
    "\n",
    "epochs = 20000\n",
    "lr = 0.7\n",
    "\n",
    "inputLayerNeurons,hiddenLayerNeurons,outputLayerNeurons = 2,2,2\n",
    "\n",
    "# Random weights and bias initialization\n",
    "hidden_weights = np.random.uniform(size = (inputLayerNeurons,hiddenLayerNeurons))\n",
    "hidden_bias = np.random.uniform(size = (1,hiddenLayerNeurons))\n",
    "output_weights = np.random.uniform(size = (hiddenLayerNeurons,outputLayerNeurons))\n",
    "output_bias = np.random.uniform(size = (1,outputLayerNeurons))\n",
    "\n",
    "print('Initial hidden weights: ',end='')\n",
    "print(*hidden_weights)\n",
    "print('Initial hidden biases: ',end='')\n",
    "print(*hidden_bias)\n",
    "print('Initial output weights: ',end='')\n",
    "print(*output_weights)\n",
    "print('Initial output biases: ',end='')\n",
    "print(*output_bias)"
   ]
  },
  {
   "cell_type": "code",
   "execution_count": 2,
   "id": "d81a6220",
   "metadata": {},
   "outputs": [],
   "source": [
    "# Training Algorithm\n",
    "for _ in range(epochs):\n",
    "    \n",
    "    #Forward Propagation for finding predicted values\n",
    "    hidden_layer_activation = np.dot(inputs,hidden_weights)\n",
    "    hidden_layer_activation += hidden_bias\n",
    "    hidden_layer_output = sigmoid(hidden_layer_activation)   #1st half completed\n",
    "    \n",
    "    output_layer_activation = np.dot(hidden_layer_output,output_weights)\n",
    "    output_layer_activation += output_bias\n",
    "    predicted_output = sigmoid(output_layer_activation)      #2nd half completed\n",
    "    \n",
    "    #Backward Propagation for finding the weights\n",
    "    error = expected_output-predicted_output\n",
    "    d_predicted_output = error*sigmoid_derivative(predicted_output)   #Backward pass at output layer\n",
    "    \n",
    "    error_hidden_layer = d_predicted_output.dot(output_weights.T)\n",
    "    d_hidden_layer = error_hidden_layer*sigmoid_derivative(hidden_layer_output)   #Backward pass at hidden layer\n",
    "    \n",
    "    #Updating Weights and Biases\n",
    "    output_weights += hidden_layer_output.T.dot(d_predicted_output)*lr\n",
    "    output_bias += np.sum(d_predicted_output,axis=0,keepdims=True)*lr\n",
    "    hidden_weights += inputs.T.dot(d_hidden_layer)*lr\n",
    "    hidden_bias += np.sum(d_hidden_layer,axis=1,keepdims=True)*lr"
   ]
  },
  {
   "cell_type": "code",
   "execution_count": 3,
   "id": "db1afd4f",
   "metadata": {},
   "outputs": [
    {
     "name": "stdout",
     "output_type": "stream",
     "text": [
      "Final hidden weights: [0.31517277 0.60124564] [0.7597394  0.74919196]\n",
      "Final hidden biases: [1.16646614 1.10008359]\n",
      "Final output weights: [-1.01212767  1.34862598] [-1.34937568  1.68649545]\n",
      "Final output biases: [-2.78464168  2.27462308]\n",
      "\n",
      "Output from neutral network: [0.01012615 0.98990648]\n"
     ]
    }
   ],
   "source": [
    "print('Final hidden weights: ',end='')\n",
    "print(*hidden_weights)\n",
    "print('Final hidden biases: ',end='')\n",
    "print(*hidden_bias)\n",
    "print('Final output weights: ',end='')\n",
    "print(*output_weights)\n",
    "print('Final output biases: ',end='')\n",
    "print(*output_bias)\n",
    "\n",
    "print('\\nOutput from neutral network: ',end='')\n",
    "print(*predicted_output)"
   ]
  },
  {
   "cell_type": "code",
   "execution_count": null,
   "id": "9e16aa0e",
   "metadata": {},
   "outputs": [],
   "source": []
  }
 ],
 "metadata": {
  "kernelspec": {
   "display_name": "Python 3 (ipykernel)",
   "language": "python",
   "name": "python3"
  },
  "language_info": {
   "codemirror_mode": {
    "name": "ipython",
    "version": 3
   },
   "file_extension": ".py",
   "mimetype": "text/x-python",
   "name": "python",
   "nbconvert_exporter": "python",
   "pygments_lexer": "ipython3",
   "version": "3.10.4"
  }
 },
 "nbformat": 4,
 "nbformat_minor": 5
}
